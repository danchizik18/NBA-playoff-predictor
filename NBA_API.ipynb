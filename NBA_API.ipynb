{
 "cells": [
  {
   "cell_type": "code",
   "execution_count": 14,
   "id": "0c7993b1-958e-4bf7-9e7b-b8102d0fd84b",
   "metadata": {},
   "outputs": [],
   "source": [
    "#get data for the 2023-2024 season for all active players - pts, assists, rebounds, etc."
   ]
  },
  {
   "cell_type": "code",
   "execution_count": 7,
   "id": "d60b61c9-c77a-4ddf-9286-e8cae4d12c20",
   "metadata": {},
   "outputs": [],
   "source": [
    "import numpy as np\n",
    "import pandas as pd\n",
    "from nba_api.stats.static import players\n",
    "from nba_api.stats.static import teams\n",
    "from nba_api.stats.endpoints import playergamelog\n",
    "from nba_api.stats.library.parameters import SeasonAll\n",
    "from nba_api.stats.library.parameters import ActivePlayers"
   ]
  },
  {
   "cell_type": "code",
   "execution_count": 8,
   "id": "5ea49e3f-b3fb-4cc9-806e-e639b701401c",
   "metadata": {},
   "outputs": [],
   "source": [
    "player_dict = players.get_players()\n",
    "team_dict = teams.get_teams()"
   ]
  },
  {
   "cell_type": "code",
   "execution_count": 9,
   "id": "371ea87c-d254-4819-8592-71afdbf17452",
   "metadata": {},
   "outputs": [],
   "source": [
    "active_players = [player for player in player_dict if player['is_active'] == True]\n",
    "lebron = [player for player in player_dict if player['full_name'] == 'LeBron James'][0]\n",
    "lakers = [team for team in team_dict if team['full_name'] == 'Los Angeles Lakers']"
   ]
  },
  {
   "cell_type": "code",
   "execution_count": 10,
   "id": "d5399907-40c5-4852-ad56-9e16565047c5",
   "metadata": {},
   "outputs": [
    {
     "data": {
      "text/plain": [
       "{'id': 2544,\n",
       " 'full_name': 'LeBron James',\n",
       " 'first_name': 'LeBron',\n",
       " 'last_name': 'James',\n",
       " 'is_active': True}"
      ]
     },
     "execution_count": 10,
     "metadata": {},
     "output_type": "execute_result"
    }
   ],
   "source": [
    "lebron"
   ]
  },
  {
   "cell_type": "code",
   "execution_count": 43,
   "id": "f0849b14-2c2d-4617-9566-4f892b5f8a8a",
   "metadata": {},
   "outputs": [],
   "source": [
    "#getting lebrons stats \n",
    "gamelog_lebron = playergamelog.PlayerGameLog(player_id='2544', season='2023') "
   ]
  },
  {
   "cell_type": "code",
   "execution_count": 47,
   "id": "b416a2b4-9765-44db-965c-26ea3c051c9c",
   "metadata": {},
   "outputs": [],
   "source": [
    "gamelog_lebron_df = gamelog_lebron.get_data_frames()"
   ]
  },
  {
   "cell_type": "code",
   "execution_count": 48,
   "id": "459c7f83-fd27-4641-a012-41845bcac4a5",
   "metadata": {},
   "outputs": [
    {
     "data": {
      "text/plain": [
       "[   SEASON_ID  Player_ID     Game_ID     GAME_DATE      MATCHUP WL  MIN  FGM  \\\n",
       " 0      22023       2544  0022301195  APR 14, 2024    LAL @ NOP  W   38   11   \n",
       " 1      22023       2544  0022301177  APR 12, 2024    LAL @ MEM  W   41   13   \n",
       " 2      22023       2544  0022301155  APR 09, 2024  LAL vs. GSW  L   36   14   \n",
       " 3      22023       2544  0022301127  APR 06, 2024  LAL vs. CLE  W   36   10   \n",
       " 4      22023       2544  0022301103  APR 03, 2024    LAL @ WAS  W   36    9   \n",
       " ..       ...        ...         ...           ...          ... ..  ...  ...   \n",
       " 66     22023       2544  0022300127  NOV 01, 2023  LAL vs. LAC  W   42   13   \n",
       " 67     22023       2544  0022300111  OCT 30, 2023  LAL vs. ORL  W   33    7   \n",
       " 68     22023       2544  0022300100  OCT 29, 2023    LAL @ SAC  L   39   11   \n",
       " 69     22023       2544  0022300076  OCT 26, 2023  LAL vs. PHX  W   35    7   \n",
       " 70     22023       2544  0022300061  OCT 24, 2023    LAL @ DEN  L   29   10   \n",
       " \n",
       "     FGA  FG_PCT  ...  DREB  REB  AST  STL  BLK  TOV  PF  PTS  PLUS_MINUS  \\\n",
       " 0    20   0.550  ...     9   11   17    5    1    4   0   28          19   \n",
       " 1    20   0.650  ...     7    9    5    2    0    8   1   37          -3   \n",
       " 2    22   0.636  ...     6    7   11    2    0    4   0   33          -6   \n",
       " 3    18   0.556  ...     5    5   12    1    1    5   1   24          10   \n",
       " 4    18   0.500  ...     5    7    9    3    0    4   2   25           9   \n",
       " ..  ...     ...  ...   ...  ...  ...  ...  ...  ...  ..  ...         ...   \n",
       " 66   19   0.684  ...    12   12    7    1    2    4   3   35           6   \n",
       " 67   17   0.412  ...     3    3    4    3    1    5   0   19           5   \n",
       " 68   19   0.579  ...    15   15    8    0    0    8   2   27          -5   \n",
       " 69   14   0.500  ...     7    8    9    2    2    5   1   21          22   \n",
       " 70   16   0.625  ...     7    8    5    1    0    0   1   21           7   \n",
       " \n",
       "     VIDEO_AVAILABLE  \n",
       " 0                 1  \n",
       " 1                 1  \n",
       " 2                 1  \n",
       " 3                 1  \n",
       " 4                 1  \n",
       " ..              ...  \n",
       " 66                1  \n",
       " 67                1  \n",
       " 68                1  \n",
       " 69                1  \n",
       " 70                1  \n",
       " \n",
       " [71 rows x 27 columns]]"
      ]
     },
     "execution_count": 48,
     "metadata": {},
     "output_type": "execute_result"
    }
   ],
   "source": [
    "gamelog_lebron_df "
   ]
  },
  {
   "cell_type": "code",
   "execution_count": 53,
   "id": "5ab872ca-4e8a-4445-919c-cddf2d85f216",
   "metadata": {},
   "outputs": [
    {
     "data": {
      "text/plain": [
       "<module 'nba_api.stats.endpoints.playergamelog' from 'C:\\\\Users\\\\uma_s\\\\anaconda3\\\\Lib\\\\site-packages\\\\nba_api\\\\stats\\\\endpoints\\\\playergamelog.py'>"
      ]
     },
     "execution_count": 53,
     "metadata": {},
     "output_type": "execute_result"
    }
   ],
   "source": [
    "gamelog = playergamelog.PlayerGameLog(player_id=ActivePlayers, season='2023') "
   ]
  },
  {
   "cell_type": "code",
   "execution_count": null,
   "id": "adba61fd-2499-4b2d-bab6-dd9fc1f6462f",
   "metadata": {},
   "outputs": [],
   "source": []
  }
 ],
 "metadata": {
  "kernelspec": {
   "display_name": "Python 3 (ipykernel)",
   "language": "python",
   "name": "python3"
  },
  "language_info": {
   "codemirror_mode": {
    "name": "ipython",
    "version": 3
   },
   "file_extension": ".py",
   "mimetype": "text/x-python",
   "name": "python",
   "nbconvert_exporter": "python",
   "pygments_lexer": "ipython3",
   "version": "3.12.4"
  }
 },
 "nbformat": 4,
 "nbformat_minor": 5
}
